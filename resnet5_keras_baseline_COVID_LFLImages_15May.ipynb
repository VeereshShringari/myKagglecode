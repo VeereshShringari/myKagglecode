{
  "nbformat": 4,
  "nbformat_minor": 0,
  "metadata": {
    "kernelspec": {
      "display_name": "Python 3",
      "language": "python",
      "name": "python3"
    },
    "language_info": {
      "codemirror_mode": {
        "name": "ipython",
        "version": 3
      },
      "file_extension": ".py",
      "mimetype": "text/x-python",
      "name": "python",
      "nbconvert_exporter": "python",
      "pygments_lexer": "ipython3",
      "version": "3.6.7"
    },
    "colab": {
      "name": "resnet5_keras_baseline_COVID_Finetuning_24April.ipynb",
      "provenance": [],
      "collapsed_sections": [],
      "machine_shape": "hm",
      "include_colab_link": true
    }
  },
  "cells": [
    {
      "cell_type": "markdown",
      "metadata": {
        "id": "view-in-github",
        "colab_type": "text"
      },
      "source": [
        "<a href=\"https://colab.research.google.com/github/VeereshShringari/myKagglecode/blob/master/resnet5_keras_baseline_COVID_LFLImages_15May.ipynb\" target=\"_parent\"><img src=\"https://colab.research.google.com/assets/colab-badge.svg\" alt=\"Open In Colab\"/></a>"
      ]
    },
    {
      "cell_type": "markdown",
      "metadata": {
        "id": "kApyA4pB-TqH",
        "colab_type": "text"
      },
      "source": [
        "### ResNet50 Keras baseline model\n",
        "\n",
        "This notebook takes you through some important steps in building a deep convnet in Keras for multilabel classification of brain CT scans. \n",
        "\n",
        "\n",
        "*Update (1):*\n",
        "* *training for 4 epochs instead of 3.*\n",
        "* *batch size lowered to 16 from 32.*\n",
        "* *training without learning rate decay.*\n",
        "* *Weighted BCE instead of \"plain\" BCE*\n",
        "* *training data lowered to 80% from 90%.*\n",
        "\n",
        "\n",
        "*Update (2):*\n",
        "* *adding competition metric for training*\n",
        "* *using custom Callback for validation and test sets instead of the `run()` function and 'global epochs'*\n",
        "* *training with \"plain\" BCE again*\n",
        "* *merging TestDataGenerator and TrainDataGenerator into one*\n",
        "* *adding undersampling (see inside `on_epoch_end`), will now run 6 epochs*\n",
        "\n",
        "*Update (3):*\n",
        "* *skipping/removing windowing (value clipping), but the transformation to Hounsfield Units is kept*\n",
        "* *removing initial layer (doing np.stack((img,)&ast;3, axis=-1)) instead*\n",
        "* *reducing learning rate to 5e-4 and add decay*\n",
        "* *increasing batch size to 32 from 16*\n",
        "* *Increasing training set to 90% of the data (10% for validation)*\n",
        "* *slight increase in undersampling*\n",
        "* *fixed some hardcoding for input dims/sizes*"
      ]
    },
    {
      "cell_type": "code",
      "metadata": {
        "id": "60ahCsN4EKAE",
        "colab_type": "code",
        "outputId": "018f4c74-f8f1-4ca1-b88d-7185ae930d59",
        "colab": {
          "base_uri": "https://localhost:8080/",
          "height": 34
        }
      },
      "source": [
        "!unzip data.zip"
      ],
      "execution_count": 0,
      "outputs": [
        {
          "output_type": "stream",
          "text": [
            "unzip:  cannot find or open data.zip, data.zip.zip or data.zip.ZIP.\n"
          ],
          "name": "stdout"
        }
      ]
    },
    {
      "cell_type": "code",
      "metadata": {
        "_cell_guid": "b1076dfc-b9ad-4769-8c92-a6c4dae69d19",
        "_uuid": "8f2839f25d086af736a60e9eeb907d3b93b6e0e5",
        "id": "D4RjvLfX-TqJ",
        "colab_type": "code",
        "colab": {}
      },
      "source": [
        "import collections\n",
        "from datetime import datetime\n",
        "from math import ceil, floor\n",
        "import matplotlib.pyplot as plt\n",
        "import numpy as np\n",
        "import os\n",
        "import pandas as pd\n",
        "from tqdm import tqdm_notebook as tqdm\n",
        "import sys\n",
        "\n",
        "\n",
        "\n",
        "import cv2\n",
        "import tensorflow as tf\n",
        "import keras\n",
        "\n",
        "\n",
        "from keras_applications.resnet import ResNet50\n",
        "from keras.preprocessing.image import load_img\n",
        "from keras.preprocessing.image import img_to_array\n",
        "from keras.preprocessing.image import ImageDataGenerator\n",
        "from sklearn.model_selection import ShuffleSplit\n",
        "\n",
        "from tensorflow.keras.applications import imagenet_utils\n",
        "preprocess_input = imagenet_utils.preprocess_input\n",
        "\n",
        "WEIGHTS_PATH = 'drive/My Drive/resnet50_weights_tf_dim_ordering_tf_kernels.h5'\n",
        "WEIGHTS_PATH_NO_TOP = 'resnet50_weights_tf_dim_ordering_tf_kernels_notop.h5'\n",
        "\n",
        "\n",
        "TEST_IMAGES_DIR = 'drive/My Drive/data/'\n",
        "TRAIN_IMAGES_DIR = 'drive/My Drive/data/LFA_Iamges/Images/'\n",
        "\n",
        "\n",
        "\n"
      ],
      "execution_count": 0,
      "outputs": []
    },
    {
      "cell_type": "markdown",
      "metadata": {
        "id": "Vu4oeW23yNu3",
        "colab_type": "text"
      },
      "source": [
        ""
      ]
    },
    {
      "cell_type": "code",
      "metadata": {
        "id": "yl7PogfSyN7a",
        "colab_type": "code",
        "outputId": "99a9ca0a-ebbd-4fbc-e448-ccc5f5ff4281",
        "colab": {
          "base_uri": "https://localhost:8080/",
          "height": 34
        }
      },
      "source": [
        "from google.colab import drive\n",
        "drive.mount('/content/drive',force_remount=True)"
      ],
      "execution_count": 11,
      "outputs": [
        {
          "output_type": "stream",
          "text": [
            "Mounted at /content/drive\n"
          ],
          "name": "stdout"
        }
      ]
    },
    {
      "cell_type": "code",
      "metadata": {
        "id": "jje61omNyOb1",
        "colab_type": "code",
        "outputId": "b9599b17-f411-403c-c8bd-7d500dfcad58",
        "colab": {
          "base_uri": "https://localhost:8080/",
          "height": 34
        }
      },
      "source": [
        "WEIGHTS_PATH"
      ],
      "execution_count": 0,
      "outputs": [
        {
          "output_type": "execute_result",
          "data": {
            "text/plain": [
              "'drive/My Drive/resnet50_weights_tf_dim_ordering_tf_kernels.h5'"
            ]
          },
          "metadata": {
            "tags": []
          },
          "execution_count": 4
        }
      ]
    },
    {
      "cell_type": "code",
      "metadata": {
        "id": "thLEukWZ6czH",
        "colab_type": "code",
        "colab": {}
      },
      "source": [
        "from google.colab import auth\n",
        "auth.authenticate_user()\n",
        "import gspread\n",
        "from oauth2client.client import GoogleCredentials\n",
        "gc = gspread.authorize(GoogleCredentials.get_application_default())"
      ],
      "execution_count": 0,
      "outputs": []
    },
    {
      "cell_type": "code",
      "metadata": {
        "id": "Kc5Chlk1-64e",
        "colab_type": "code",
        "outputId": "8c0cfe96-adf6-46cd-fab6-75d78de3d03b",
        "colab": {
          "base_uri": "https://localhost:8080/",
          "height": 221
        }
      },
      "source": [
        "wb = gc.open_by_url('https://docs.google.com/spreadsheets/d/1k2oYVB5FouB4ZR48A-Cu58maNiAcnHHLYaOUfEqhB28')\n",
        "sheet = wb.sheet1\n",
        "data = sheet.get_all_values()\n",
        "df_labels = pd.DataFrame(data)\n",
        "#df_labels.drop([\"reviewer\", \"Control_intensity\",\"IgG_intensity\", \"IgM_intensity\"],axis=1 )\n",
        "cols = [1, 2,3, 4]\n",
        "df_labels.drop(df_labels.columns[cols],axis=1,inplace=True)\n",
        "\n",
        "df_labels.columns = df_labels.iloc[0]\n",
        "df_labels = df_labels.iloc[1:]\n",
        "df_labels['Assay_no.']=df_labels['Assay_no.'].astype(str).astype(int)\n",
        "df_labels['Assay_no.'].dtypes\n",
        "df_labels['Assay_no.'] = df_labels['Assay_no.'].apply(lambda x: '{0:0>4}'.format(x))\n",
        "df_labels['Assay_no.'].head(11)"
      ],
      "execution_count": 15,
      "outputs": [
        {
          "output_type": "execute_result",
          "data": {
            "text/plain": [
              "1     0001\n",
              "2     0002\n",
              "3     0003\n",
              "4     0004\n",
              "5     0005\n",
              "6     0006\n",
              "7     0007\n",
              "8     0008\n",
              "9     0009\n",
              "10    0010\n",
              "11    0011\n",
              "Name: Assay_no., dtype: object"
            ]
          },
          "metadata": {
            "tags": []
          },
          "execution_count": 15
        }
      ]
    },
    {
      "cell_type": "code",
      "metadata": {
        "id": "sFVPWluZDA5d",
        "colab_type": "code",
        "outputId": "8bf8e0c5-0d43-42d7-f4d2-78b0fdd815c3",
        "colab": {
          "base_uri": "https://localhost:8080/",
          "height": 593
        }
      },
      "source": [
        "import IPython.display as display\n",
        "from PIL import Image\n",
        "import numpy as np\n",
        "import matplotlib.pyplot as plt\n",
        "import os\n",
        "import pathlib\n",
        "\n",
        "data_dir = pathlib.Path(\".\")\n",
        "images = list(data_dir.glob('drive/My Drive/data/LFA_Iamges/Images/*.jpg'))\n",
        "new_width = 3000\n",
        "new_height = 1000\n",
        "for image_path in images:\n",
        "    print(image_path)\n",
        "    im = cv2.imread(str(image_path))\n",
        "    #display.display(im)\n",
        "    width, height,_ = im.shape   # Get dimensions\n",
        "    if width < height:\n",
        "      M = cv2.getRotationMatrix2D((height/2,width/2),90,1)\n",
        "      im = cv2.warpAffine(im,M,(height,width))\n",
        "    plt.imshow(im.astype('uint8'))\n",
        "plt.show()\n"
      ],
      "execution_count": 16,
      "outputs": [
        {
          "output_type": "stream",
          "text": [
            "drive/My Drive/data/LFA_Iamges/Images/0031.jpg\n",
            "drive/My Drive/data/LFA_Iamges/Images/0034.jpg\n",
            "drive/My Drive/data/LFA_Iamges/Images/0030.jpg\n",
            "drive/My Drive/data/LFA_Iamges/Images/0035.jpg\n",
            "drive/My Drive/data/LFA_Iamges/Images/0028.jpg\n",
            "drive/My Drive/data/LFA_Iamges/Images/0036.jpg\n",
            "drive/My Drive/data/LFA_Iamges/Images/0027.jpg\n",
            "drive/My Drive/data/LFA_Iamges/Images/0008.jpg\n",
            "drive/My Drive/data/LFA_Iamges/Images/0007.jpg\n",
            "drive/My Drive/data/LFA_Iamges/Images/0013.jpg\n",
            "drive/My Drive/data/LFA_Iamges/Images/0015.jpg\n",
            "drive/My Drive/data/LFA_Iamges/Images/0024.jpg\n",
            "drive/My Drive/data/LFA_Iamges/Images/0022.jpg\n",
            "drive/My Drive/data/LFA_Iamges/Images/0003.jpg\n",
            "drive/My Drive/data/LFA_Iamges/Images/0012.jpg\n",
            "drive/My Drive/data/LFA_Iamges/Images/0019.jpg\n",
            "drive/My Drive/data/LFA_Iamges/Images/0004.jpg\n",
            "drive/My Drive/data/LFA_Iamges/Images/0002.jpg\n",
            "drive/My Drive/data/LFA_Iamges/Images/0005.jpg\n"
          ],
          "name": "stdout"
        },
        {
          "output_type": "display_data",
          "data": {
            "image/png": "[encoded data removed]",
            "text/plain": [
              "<Figure size 432x288 with 1 Axes>"
            ]
          },
          "metadata": {
            "tags": [],
            "needs_background": "light"
          }
        }
      ]
    },
    {
      "cell_type": "code",
      "metadata": {
        "id": "fqw-N5SPKdIu",
        "colab_type": "code",
        "outputId": "f8bd32e0-595c-4e1a-d6aa-9d0b69a84fbb",
        "colab": {
          "base_uri": "https://localhost:8080/",
          "height": 34
        }
      },
      "source": [
        "im.shape"
      ],
      "execution_count": 17,
      "outputs": [
        {
          "output_type": "execute_result",
          "data": {
            "text/plain": [
              "(4608, 3456, 3)"
            ]
          },
          "metadata": {
            "tags": []
          },
          "execution_count": 17
        }
      ]
    },
    {
      "cell_type": "markdown",
      "metadata": {
        "id": "GmgwadgA-TqQ",
        "colab_type": "text"
      },
      "source": [
        "### 1. Helper functions\n",
        "\n",
        "* normalizing the pixel values between -1 and 1 \n",
        "* read and transform dcms to 3-channel inputs for e.g. ResNet50.\n",
        "\n",
        "\\* Source for windowing (although now partly removed from this kernel): https://www.kaggle.com/omission/eda-view-dicom-images-with-correct-windowing"
      ]
    },
    {
      "cell_type": "code",
      "metadata": {
        "_cell_guid": "79c7e3d0-c299-4dcb-8224-4455121ee9b0",
        "_uuid": "d629ff2d2480ee46fbb7e2d37f6b5fab8052498a",
        "id": "f0URQlqi-TqR",
        "colab_type": "code",
        "colab": {}
      },
      "source": [
        "def _normalize(img):\n",
        "    if img.max() == img.min():\n",
        "        return np.zeros(img.shape)-1\n",
        "    return 2 * (img - img.min())/(img.max() - img.min()) - 1\n",
        "\n",
        "\n",
        "  \n",
        "def _read(path, desired_size, augment_data=0, plot=False):\n",
        "    \"\"\"Will be used in DataGenerator\n",
        "    Loads image, crops and resizes. With optional image data augmentation.\n",
        "    We assume that the image has been centered. \n",
        "    Input:\n",
        "    ----------------------------------\n",
        "    desired_size     :  desired size for the image (tuple)\n",
        "    augment_data     :  nb of data augmented samples (int)\n",
        "    \"\"\"\n",
        "    new_width, new_height,_ = desired_size\n",
        "    print (path)\n",
        "    img = cv2.imread(path)\n",
        "    rows, cols,_ = img.shape\n",
        "    #https://stackoverflow.com/questions/57217941/converting-all-files-jpg-to-png-from-a-directory-in-python\n",
        "    #https://scottontechnology.com/open-multiple-images-opencv-python/\n",
        "    if img.endswith(\".jpg\"):\n",
        "       img=img+'.jpeg'\n",
        "       rgb_im = im.convert('RGB')\n",
        "       rgb_im.save(img)\n",
        "    if rows < cols:  \n",
        "      M = cv2.getRotationMatrix2D((cols/2,rows/2),90,1)\n",
        "      img = cv2.warpAffine(img,M,(cols,rows))\n",
        "    res = cv2.resize(img, dsize=desired_size[:2], interpolation=cv2.INTER_CUBIC)\n",
        "    samples = np.expand_dims(res, 0)\n",
        "    if augment_data>0:\n",
        "        # create image data augmentation generator\n",
        "        datagen = ImageDataGenerator(rotation_range=90,\n",
        "                                     width_shift_range=[-100,100])\n",
        "        # prepare iterator\n",
        "        it = datagen.flow(samples, batch_size=1)\n",
        "        for i in range(augment_data):\n",
        "          batch = it.next()    # generate batch of images\n",
        "          image = batch[0]\n",
        "          samples = np.vstack((samples, np.expand_dims(image, 0)))\n",
        "          if plot:\n",
        "            plt.subplot(330 + 1 + i)\n",
        "            plt.imshow(batch[0].astype('uint8'))\n",
        "          #img = np.stack((res,)*3, axis=-1)\n",
        "    if plot: plt.show()\n",
        "    print('samples size in read:', samples.shape)\n",
        "    return samples\n"
      ],
      "execution_count": 0,
      "outputs": []
    },
    {
      "cell_type": "code",
      "metadata": {
        "id": "VO4vaCw7IfL3",
        "colab_type": "code",
        "outputId": "c415e974-22f7-4145-c465-4cac50330d12",
        "colab": {
          "base_uri": "https://localhost:8080/",
          "height": 318
        }
      },
      "source": [
        "test = _read('drive/My Drive/data/LFA_Iamges/Images/0031.jpg',(512,512,3),9, plot=True)\n",
        "print(test.shape)"
      ],
      "execution_count": 36,
      "outputs": [
        {
          "output_type": "stream",
          "text": [
            "drive/My Drive/data/LFA_Iamges/Images/0031.jpg\n"
          ],
          "name": "stdout"
        },
        {
          "output_type": "error",
          "ename": "AttributeError",
          "evalue": "ignored",
          "traceback": [
            "\u001b[0;31m---------------------------------------------------------------------------\u001b[0m",
            "\u001b[0;31mAttributeError\u001b[0m                            Traceback (most recent call last)",
            "\u001b[0;32m<ipython-input-36-3335cd492f53>\u001b[0m in \u001b[0;36m<module>\u001b[0;34m()\u001b[0m\n\u001b[0;32m----> 1\u001b[0;31m \u001b[0mtest\u001b[0m \u001b[0;34m=\u001b[0m \u001b[0m_read\u001b[0m\u001b[0;34m(\u001b[0m\u001b[0;34m'drive/My Drive/data/LFA_Iamges/Images/0031.jpg'\u001b[0m\u001b[0;34m,\u001b[0m\u001b[0;34m(\u001b[0m\u001b[0;36m512\u001b[0m\u001b[0;34m,\u001b[0m\u001b[0;36m512\u001b[0m\u001b[0;34m,\u001b[0m\u001b[0;36m3\u001b[0m\u001b[0;34m)\u001b[0m\u001b[0;34m,\u001b[0m\u001b[0;36m9\u001b[0m\u001b[0;34m,\u001b[0m \u001b[0mplot\u001b[0m\u001b[0;34m=\u001b[0m\u001b[0;32mTrue\u001b[0m\u001b[0;34m)\u001b[0m\u001b[0;34m\u001b[0m\u001b[0;34m\u001b[0m\u001b[0m\n\u001b[0m\u001b[1;32m      2\u001b[0m \u001b[0mprint\u001b[0m\u001b[0;34m(\u001b[0m\u001b[0mtest\u001b[0m\u001b[0;34m.\u001b[0m\u001b[0mshape\u001b[0m\u001b[0;34m)\u001b[0m\u001b[0;34m\u001b[0m\u001b[0;34m\u001b[0m\u001b[0m\n",
            "\u001b[0;32m<ipython-input-35-e3ef5e4dc706>\u001b[0m in \u001b[0;36m_read\u001b[0;34m(path, desired_size, augment_data, plot)\u001b[0m\n\u001b[1;32m     20\u001b[0m     \u001b[0mrows\u001b[0m\u001b[0;34m,\u001b[0m \u001b[0mcols\u001b[0m\u001b[0;34m,\u001b[0m\u001b[0m_\u001b[0m \u001b[0;34m=\u001b[0m \u001b[0mimg\u001b[0m\u001b[0;34m.\u001b[0m\u001b[0mshape\u001b[0m\u001b[0;34m\u001b[0m\u001b[0;34m\u001b[0m\u001b[0m\n\u001b[1;32m     21\u001b[0m     \u001b[0;31m#https://stackoverflow.com/questions/57217941/converting-all-files-jpg-to-png-from-a-directory-in-python\u001b[0m\u001b[0;34m\u001b[0m\u001b[0;34m\u001b[0m\u001b[0;34m\u001b[0m\u001b[0m\n\u001b[0;32m---> 22\u001b[0;31m     \u001b[0;32mif\u001b[0m \u001b[0mimg\u001b[0m\u001b[0;34m.\u001b[0m\u001b[0mendswith\u001b[0m\u001b[0;34m(\u001b[0m\u001b[0;34m\".jpg\"\u001b[0m\u001b[0;34m)\u001b[0m\u001b[0;34m:\u001b[0m\u001b[0;34m\u001b[0m\u001b[0;34m\u001b[0m\u001b[0m\n\u001b[0m\u001b[1;32m     23\u001b[0m        \u001b[0mimg\u001b[0m\u001b[0;34m=\u001b[0m\u001b[0mimg\u001b[0m\u001b[0;34m+\u001b[0m\u001b[0;34m'.jpeg'\u001b[0m\u001b[0;34m\u001b[0m\u001b[0;34m\u001b[0m\u001b[0m\n\u001b[1;32m     24\u001b[0m        \u001b[0mrgb_im\u001b[0m \u001b[0;34m=\u001b[0m \u001b[0mim\u001b[0m\u001b[0;34m.\u001b[0m\u001b[0mconvert\u001b[0m\u001b[0;34m(\u001b[0m\u001b[0;34m'RGB'\u001b[0m\u001b[0;34m)\u001b[0m\u001b[0;34m\u001b[0m\u001b[0;34m\u001b[0m\u001b[0m\n",
            "\u001b[0;31mAttributeError\u001b[0m: 'numpy.ndarray' object has no attribute 'endswith'"
          ]
        }
      ]
    },
    {
      "cell_type": "code",
      "metadata": {
        "id": "tGSfWNhna91-",
        "colab_type": "code",
        "outputId": "e22d29e5-d136-4a08-d57e-439f2a4a95d3",
        "colab": {
          "base_uri": "https://localhost:8080/",
          "height": 269
        }
      },
      "source": [
        "\n",
        "\n",
        "from numpy import expand_dims\n",
        "from keras.preprocessing.image import load_img\n",
        "from keras.preprocessing.image import img_to_array\n",
        "from keras.preprocessing.image import ImageDataGenerator\n",
        "import matplotlib.pyplot as plt\n",
        "import scipy as sc\n",
        "\n",
        "img = cv2.imread('drive/My Drive/data/image0.jpg')\n",
        "# convert to numpy array\n",
        "res = cv2.resize(img, dsize=(512, 512), interpolation=cv2.INTER_CUBIC)\n",
        "data = res\n",
        "# expand dimension to one sample\n",
        "\n",
        "samples = expand_dims(data, 0)\n",
        "# create image data augmentation generator\n",
        "datagen = ImageDataGenerator(rotation_range = 90, width_shift_range=[-100,100])\n",
        "# prepare iterator\n",
        "it = datagen.flow(samples, batch_size=1)\n",
        "for i in range(9):\n",
        "\t# define subplot\n",
        "\tplt.subplot(330 + 1 + i)\n",
        "\t# generate batch of images\n",
        "\tbatch = it.next()\n",
        "\t# convert to unsigned integers for viewing\n",
        "\timage = batch[0].astype('uint8')\n",
        "\t# plot raw pixel data\n",
        "\tplt.imshow(image)\n",
        "# show the figure\n",
        "plt.show()"
      ],
      "execution_count": 20,
      "outputs": [
        {
          "output_type": "display_data",
          "data": {
            "image/png": "[encoded data removed]",
            "text/plain": [
              "<Figure size 432x288 with 9 Axes>"
            ]
          },
          "metadata": {
            "tags": [],
            "needs_background": "light"
          }
        }
      ]
    },
    {
      "cell_type": "markdown",
      "metadata": {
        "id": "RVD3MWoh-TqW",
        "colab_type": "text"
      },
      "source": [
        "### 2. Data generators\n",
        "\n",
        "Inherits from keras.utils.Sequence object and thus should be safe for multiprocessing.\n"
      ]
    },
    {
      "cell_type": "code",
      "metadata": {
        "id": "GVupHBDB-TqX",
        "colab_type": "code",
        "colab": {}
      },
      "source": [
        "\n",
        "\n",
        "class DataGenerator(keras.utils.Sequence):\n",
        "    def __init__(self, list_IDs, img_labels, batch_size=1, img_size=(512, 512,3), \n",
        "                 img_dir=TRAIN_IMAGES_DIR, n_classes = 4, train =True,\n",
        "                 n_augment = 9, shuffle=True,\n",
        "                 *args, **kwargs):\n",
        "\n",
        "        self.list_IDs = list_IDs\n",
        "        self.indices = np.arange(len(self.list_IDs))\n",
        "        self.img_labels = img_labels ### contains col1: names of images for loading + col2(!exits fr test) for labels\n",
        "        self.n_classes = n_classes   ### nb of classes\n",
        "        self.n_augment = n_augment   ### nb of additional data samples\n",
        "        self.batch_size = batch_size\n",
        "        self.img_size = img_size    ###  desired image size: (width, height, n_channels)\n",
        "        self.img_dir = img_dir\n",
        "        self.shuffle = shuffle\n",
        "        self.train = train\n",
        "        self.on_epoch_end()\n",
        "\n",
        "    def __len__(self):\n",
        "        return int(ceil(len(self.indices) / self.batch_size))\n",
        "\n",
        "    def __getitem__(self, index):\n",
        "        indices = self.indices[index*self.batch_size: (index+1)*self.batch_size]\n",
        "        list_IDs_temp = [self.list_IDs[k] for k in indices]\n",
        "        if self.train:\n",
        "            X, Y = self.__data_generation(list_IDs_temp)\n",
        "            return X, Y\n",
        "        else:\n",
        "            X = self.__data_generation(list_IDs_temp)\n",
        "            return X\n",
        "        \n",
        "    def on_epoch_end(self):\n",
        "        self.indices = np.arange(len(self.list_IDs))\n",
        "        if self.shuffle == True:\n",
        "            np.random.shuffle(self.indices)\n",
        "\n",
        "    def __data_generation(self, list_IDs_temp):\n",
        "        print(\"Self image size\",self.img_size )\n",
        "        X = np.empty((self.batch_size * (self.n_augment + 1), *self.img_size))\n",
        "        \n",
        "        if self.train: # training phase\n",
        "            Y = np.zeros((self.batch_size * (self.n_augment + 1), self.n_classes),\n",
        "                          dtype=np.float32)\n",
        "        \n",
        "            for i, ID in enumerate(list_IDs_temp):\n",
        "              test = _read(self.img_dir+self.img_labels['ID'].loc[ID] +\".jpg\",\n",
        "                              self.img_size,  augment_data= self.n_augment, plot=False)\n",
        "              print(\"Dim data gen\",  test.shape)\n",
        "              X[i:(i +self.n_augment + 1),] = test\n",
        "              ### Convert label  into one hot vector\n",
        "              Y[i:(i +self.n_augment + 1), int(self.img_labels['label'].loc[ID])] = 1\n",
        "\n",
        "            return X, Y\n",
        "        \n",
        "        else: # test phase\n",
        "            for i, ID in enumerate(list_IDs_temp):\n",
        "                X[i,] = _read(self.img_dir+self.img_labels['ID'].loc[ID] +\".jpg\",\n",
        "                              self.img_size, augment_data=0, plot=False)      \n",
        "            return X"
      ],
      "execution_count": 0,
      "outputs": []
    },
    {
      "cell_type": "markdown",
      "metadata": {
        "id": "3dk9Plt--Tqe",
        "colab_type": "text"
      },
      "source": [
        "### 3a. loss function and metric"
      ]
    },
    {
      "cell_type": "code",
      "metadata": {
        "id": "Aj4BKXWH-Tqf",
        "colab_type": "code",
        "colab": {}
      },
      "source": [
        "from keras import backend as K\n",
        "\n",
        "def weighted_log_loss(y_true, y_pred):\n",
        "    \"\"\"\n",
        "    Can be used as the loss function in model.compile()\n",
        "    ---------------------------------------------------\n",
        "    \"\"\"\n",
        "    \n",
        "    class_weights = np.array([1., 2., 2., 2.])\n",
        "    \n",
        "    eps = K.epsilon()\n",
        "    \n",
        "    y_pred = K.clip(y_pred, eps, 1.0-eps)\n",
        "\n",
        "    out = -(         y_true  * K.log(      y_pred) * class_weights\n",
        "            + (1.0 - y_true) * K.log(1.0 - y_pred) * class_weights)\n",
        "    \n",
        "    return K.mean(out, axis=-1)\n",
        "\n",
        "\n",
        "def _normalized_weighted_average(arr, weights=None):\n",
        "    \"\"\"\n",
        "    A simple Keras implementation that mimics that of \n",
        "    numpy.average(), specifically for the this competition\n",
        "    \"\"\"\n",
        "    \n",
        "    if weights is not None:\n",
        "        scl = K.sum(weights)\n",
        "        weights = K.expand_dims(weights, axis=1)\n",
        "        return K.sum(K.dot(arr, weights), axis=1) / scl\n",
        "    return K.mean(arr, axis=1)\n",
        "\n",
        "\n",
        "def weighted_loss(y_true, y_pred):\n",
        "    \"\"\"\n",
        "    Will be used as the metric in model.compile()\n",
        "    ---------------------------------------------\n",
        "    \n",
        "    Similar to the custom loss function 'weighted_log_loss()' above\n",
        "    but with normalized weights, which should be very similar \n",
        "    to the official competition metric:\n",
        "        https://www.kaggle.com/kambarakun/lb-probe-weights-n-of-positives-scoring\n",
        "    and hence:\n",
        "        sklearn.metrics.log_loss with sample weights\n",
        "    \"\"\"\n",
        "    \n",
        "    class_weights = K.variable([1., 2., 2., 2.])\n",
        "    \n",
        "    eps = K.epsilon()\n",
        "    \n",
        "    y_pred = K.clip(y_pred, eps, 1.0-eps)\n",
        "\n",
        "    loss = -(        y_true  * K.log(      y_pred)\n",
        "            + (1.0 - y_true) * K.log(1.0 - y_pred))\n",
        "    \n",
        "    loss_samples = _normalized_weighted_average(loss, class_weights)\n",
        "    \n",
        "    return K.mean(loss_samples)\n",
        "\n",
        "\n",
        "def weighted_log_loss_metric(trues, preds):\n",
        "    \"\"\"\n",
        "    Will be used to calculate the log loss \n",
        "    of the validation set in PredictionCheckpoint()\n",
        "    ------------------------------------------\n",
        "    \"\"\"\n",
        "    class_weights = [1., 2., 2., 2.]\n",
        "    \n",
        "    epsilon = 1e-7\n",
        "    \n",
        "    preds = np.clip(preds, epsilon, 1-epsilon)\n",
        "    loss = trues * np.log(preds) + (1 - trues) * np.log(1 - preds)\n",
        "    loss_samples = np.average(loss, axis=1, weights=class_weights)\n",
        "\n",
        "    return - loss_samples.mean()\n",
        "\n",
        "def sparse_categorical_crossentropy(y_true, y_pred, from_logits=False, axis=-1):\n",
        "    return K.sparse_categorical_crossentropy(\n",
        "        y_true, y_pred, from_logits=from_logits, axis=axis)"
      ],
      "execution_count": 0,
      "outputs": []
    },
    {
      "cell_type": "markdown",
      "metadata": {
        "id": "6Iyq1X8R-Tqm",
        "colab_type": "text"
      },
      "source": [
        "### 3b. Model\n",
        "\n",
        "Model is divided into three parts: <br> \n",
        "\n",
        "* (REMOVED) The initial layer, which will transform/map input image of shape (\\_, \\_, 1) to another \"image\" of shape (\\_, \\_, 3).\n",
        "\n",
        "* The new input image is then passed through ResNet50 (which I named \"engine\"). ResNet50 could be replaced by any of the available architectures in keras_application.\n",
        "\n",
        "* Finally, the output from ResNet50 goes through average pooling followed by a dense output layer."
      ]
    },
    {
      "cell_type": "code",
      "metadata": {
        "id": "-KCkHGPm-Tqn",
        "colab_type": "code",
        "colab": {}
      },
      "source": [
        "class PredictionCheckpoint(keras.callbacks.Callback):\n",
        "    \n",
        "    def __init__(self, test_df, valid_df, n_classes =4,\n",
        "                 test_images_dir=TEST_IMAGES_DIR, \n",
        "                 valid_images_dir=TRAIN_IMAGES_DIR, \n",
        "                 batch_size=32, input_size=(224, 224, 3)):\n",
        "        \n",
        "        self.test_df = test_df\n",
        "        self.valid_df = valid_df\n",
        "        self.test_images_dir = test_images_dir\n",
        "        self.valid_images_dir = valid_images_dir\n",
        "        self.batch_size = batch_size\n",
        "        self.input_size = input_size\n",
        "        self.n_classes = n_classes\n",
        "        \n",
        "        \n",
        "    def on_train_begin(self, logs={}):\n",
        "        self.test_predictions = []\n",
        "        self.valid_predictions = []\n",
        "        \n",
        "    def on_epoch_end(self,batch, logs={}):\n",
        "        self.test_predictions.append(\n",
        "            self.model.predict_generator(\n",
        "                DataGenerator(self.test_df.index, test_df,\n",
        "                              batch_size=self.batch_size, img_size=self.input_size, \n",
        "                              img_dir=self.test_images_dir, n_classes = self.n_classes,\n",
        "                              train =False, n_augment = 0, shuffle=True),\n",
        "                verbose=2)[:len(self.test_df)])\n",
        "        \n",
        "        self.valid_predictions.append(\n",
        "            self.model.predict_generator(\n",
        "                DataGenerator(self.valid_df.index, valid_df,\n",
        "                              batch_size=self.batch_size, img_size=self.input_size, \n",
        "                              img_dir=self.valid_images_dir, n_classes = self.n_classes,\n",
        "                              train =False, n_augment = 0, shuffle=True),\n",
        "                verbose=2)[:len(self.valid_df)])\n",
        "        valid_labels = np.zeros((self.valid_df.shape[0], self.n_classes))\n",
        "        valid_labels[np.arange(self.valid_df.shape[0]), self.valid_df['label']] = 1\n",
        "        print('valid_labels', valid_labels )\n",
        "        print('pred_labels', self.valid_predictions)\n",
        "        print(\"validation loss: %.4f\" %\n",
        "              weighted_log_loss_metric(valid_labels, \n",
        "                                   np.average(self.valid_predictions, axis=0)))\n",
        "        \n",
        "        # here you could save the predictions with np.save()\n",
        "\n",
        "\n",
        "class MyDeepModel:\n",
        "    \n",
        "    def __init__(self, engine, input_dims, batch_size=5, num_epochs=4,\n",
        "                 n_classes=4, learning_rate=1e-3, n_augment = 9,\n",
        "                 decay_rate=1.0, decay_steps=1, weights=WEIGHTS_PATH_NO_TOP, verbose=1):\n",
        "        \n",
        "        self.engine = engine\n",
        "        self.input_dims = input_dims\n",
        "        self.batch_size = batch_size\n",
        "        self.num_epochs = num_epochs\n",
        "        self.n_classes = n_classes\n",
        "        self.learning_rate = learning_rate\n",
        "        self.decay_rate = decay_rate\n",
        "        self.decay_steps = decay_steps\n",
        "        self.n_augment = n_augment\n",
        "        self.weights = weights\n",
        "        self.verbose = verbose\n",
        "        self._build()\n",
        "\n",
        "    def _build(self):\n",
        "        self.engine.trainable = True\n",
        "        \n",
        "      \n",
        "    \n",
        "        engine = self.engine(include_top=False,\n",
        "                             weights=self.weights, input_shape=(*self.input_dims[:2], 3),\n",
        "                             backend = keras.backend, layers = keras.layers, \n",
        "                             models = keras.models, utils = keras.utils,)\n",
        "        set_trainable = False\n",
        "        for layer in engine.layers:\n",
        "            if layer.name in ['res5c_branch2b', 'res5c_branch2c', 'activation_97']:\n",
        "              set_trainable = True\n",
        "            if set_trainable:\n",
        "              layer.trainable = True\n",
        "            else:\n",
        "              layer.trainable = False\n",
        "        x = keras.layers.GlobalAveragePooling2D(name='avg_pool')(engine.output)\n",
        "        out = keras.layers.Dense(self.n_classes, activation=\"sigmoid\", name='dense_output')(x)\n",
        "\n",
        "        self.model = keras.models.Model(inputs=engine.input, outputs=out)\n",
        "        # loss function has been changed needs to be investigated.\n",
        "        self.model.compile(loss='categorical_crossentropy',\n",
        "                           optimizer=keras.optimizers.Adam(0.0),\n",
        "                           metrics=['accuracy'])\n",
        "    \n",
        "\n",
        "    def fit_and_predict(self, train_df, valid_df, test_df):\n",
        "        \n",
        "        # callbacks\n",
        "        pred_history = PredictionCheckpoint(test_df, valid_df,\n",
        "                                            n_classes=self.n_classes,\n",
        "                                            batch_size=self.batch_size,\n",
        "                                            input_size=self.input_dims)\n",
        "        checkpointer = keras.callbacks.ModelCheckpoint(filepath='%s-{epoch:02d}.hdf5' % self.engine.__name__, verbose=1, save_weights_only=True, save_best_only=False)\n",
        "        scheduler = keras.callbacks.LearningRateScheduler(lambda epoch: self.learning_rate * pow(self.decay_rate, floor(epoch / self.decay_steps)))\n",
        "        self.model.fit_generator(\n",
        "            DataGenerator(\n",
        "                list_IDs = train_df.index, \n",
        "                img_labels = train_df,\n",
        "                batch_size=self.batch_size,\n",
        "                img_size=self.input_dims,\n",
        "                img_dir=TRAIN_IMAGES_DIR,\n",
        "                n_classes = self.n_classes,\n",
        "                train=True,\n",
        "                n_augment = self.n_augment,\n",
        "                shuffle = True\n",
        "            ),\n",
        "            epochs=self.num_epochs,\n",
        "            verbose=self.verbose,\n",
        "            use_multiprocessing=True,\n",
        "            workers=4#,\n",
        "            #callbacks=[history]\n",
        "            #callbacks=[tensorboard_callback]\n",
        "        )\n",
        "        \n",
        "        return pred_history\n",
        "    \n",
        "    def save(self, path):\n",
        "        self.model.save_weights(path)\n",
        "    \n",
        "    def load(self, path):\n",
        "        self.model.load_weights(path)"
      ],
      "execution_count": 0,
      "outputs": []
    },
    {
      "cell_type": "code",
      "metadata": {
        "id": "D-siq1_GxoP1",
        "colab_type": "code",
        "outputId": "088c3800-9725-449c-d9bd-65dc67ae46bf",
        "colab": {
          "base_uri": "https://localhost:8080/",
          "height": 34
        }
      },
      "source": [
        "WEIGHTS_PATH_NO_TOP"
      ],
      "execution_count": 24,
      "outputs": [
        {
          "output_type": "execute_result",
          "data": {
            "text/plain": [
              "'resnet50_weights_tf_dim_ordering_tf_kernels_notop.h5'"
            ]
          },
          "metadata": {
            "tags": []
          },
          "execution_count": 24
        }
      ]
    },
    {
      "cell_type": "markdown",
      "metadata": {
        "id": "Kx7Fww_f-Tqt",
        "colab_type": "text"
      },
      "source": [
        "### 4. Read csv files\n"
      ]
    },
    {
      "cell_type": "code",
      "metadata": {
        "id": "SWt5X9Fa-Tqu",
        "colab_type": "code",
        "colab": {}
      },
      "source": [
        "def read_testset(filename=\"drive/My Drive/data/classification_labels.txt\"):\n",
        "    ''' \n",
        "    Data in data folder\n",
        "    '''\n",
        "    wb = gc.open_by_url('https://docs.google.com/spreadsheets/d/1k2oYVB5FouB4ZR48A-Cu58maNiAcnHHLYaOUfEqhB28')\n",
        "    sheet = wb.sheet1\n",
        "    data = sheet.get_all_values()\n",
        "    df = pd.DataFrame(data)\n",
        "    cols = [1, 2,3, 4]\n",
        "    df.drop(df.columns[cols],axis=1,inplace=True)\n",
        "    df.columns = df.iloc[0]\n",
        "    df = df.iloc[1:]\n",
        "    \n",
        "    #df = pd.read_csv(filename, sep=\" \", header=None)\n",
        "    df.rename(columns={'Assay_no.': 'ID', 'Result': 'label'})\n",
        "    df.columns = [\"ID\", \"label\"]\n",
        "    return df\n",
        "\n",
        "def read_trainset(filename=\"drive/My Drive/data/classification_labels.txt\"):\n",
        "    ''' \n",
        "    Data in data folder\n",
        "    '''\n",
        "    wb = gc.open_by_url('https://docs.google.com/spreadsheets/d/1k2oYVB5FouB4ZR48A-Cu58maNiAcnHHLYaOUfEqhB28')\n",
        "    sheet = wb.sheet1\n",
        "    data = sheet.get_all_values()\n",
        "    df = pd.DataFrame(data)\n",
        "    cols = [1, 2,3, 4]\n",
        "    df.drop(df.columns[cols],axis=1,inplace=True)\n",
        "    df.columns = df.iloc[0]\n",
        "    df = df.iloc[1:]\n",
        "    df['Assay_no.']=df['Assay_no.'].astype(str).astype(int)\n",
        "    #df['Assay_no.'].dtypes\n",
        "    df['Assay_no.'] = df['Assay_no.'].apply(lambda x: '{0:0>4}'.format(x))\n",
        "    \n",
        "    #df = pd.read_csv(filename, sep=\" \", header=None)\n",
        "    df.rename(columns={'Assay_no.': 'ID', 'Result': 'label'})\n",
        "    df.columns = [\"ID\", \"label\"]\n",
        "    return df\n",
        "\n",
        "    \n",
        "test_df = read_testset()\n",
        "df = read_trainset()"
      ],
      "execution_count": 0,
      "outputs": []
    },
    {
      "cell_type": "code",
      "metadata": {
        "id": "_fVDXUo3-Tq6",
        "colab_type": "code",
        "outputId": "c7ae24b5-f5ba-4d8c-8a5c-b94efba78f48",
        "colab": {
          "base_uri": "https://localhost:8080/",
          "height": 138
        }
      },
      "source": [
        "df.head(3)"
      ],
      "execution_count": 32,
      "outputs": [
        {
          "output_type": "execute_result",
          "data": {
            "text/html": [
              "<div>\n",
              "<style scoped>\n",
              "    .dataframe tbody tr th:only-of-type {\n",
              "        vertical-align: middle;\n",
              "    }\n",
              "\n",
              "    .dataframe tbody tr th {\n",
              "        vertical-align: top;\n",
              "    }\n",
              "\n",
              "    .dataframe thead th {\n",
              "        text-align: right;\n",
              "    }\n",
              "</style>\n",
              "<table border=\"1\" class=\"dataframe\">\n",
              "  <thead>\n",
              "    <tr style=\"text-align: right;\">\n",
              "      <th></th>\n",
              "      <th>ID</th>\n",
              "      <th>label</th>\n",
              "    </tr>\n",
              "  </thead>\n",
              "  <tbody>\n",
              "    <tr>\n",
              "      <th>1</th>\n",
              "      <td>0001</td>\n",
              "      <td>Positive</td>\n",
              "    </tr>\n",
              "    <tr>\n",
              "      <th>2</th>\n",
              "      <td>0002</td>\n",
              "      <td>Negative</td>\n",
              "    </tr>\n",
              "    <tr>\n",
              "      <th>3</th>\n",
              "      <td>0003</td>\n",
              "      <td>Negative</td>\n",
              "    </tr>\n",
              "  </tbody>\n",
              "</table>\n",
              "</div>"
            ],
            "text/plain": [
              "     ID     label\n",
              "1  0001  Positive\n",
              "2  0002  Negative\n",
              "3  0003  Negative"
            ]
          },
          "metadata": {
            "tags": []
          },
          "execution_count": 32
        }
      ]
    },
    {
      "cell_type": "code",
      "metadata": {
        "id": "wL4LR8Gw-TrA",
        "colab_type": "code",
        "outputId": "31e8245b-236b-46e5-89be-9de4123ecc25",
        "colab": {
          "base_uri": "https://localhost:8080/",
          "height": 138
        }
      },
      "source": [
        "test_df.head(3)"
      ],
      "execution_count": 27,
      "outputs": [
        {
          "output_type": "execute_result",
          "data": {
            "text/html": [
              "<div>\n",
              "<style scoped>\n",
              "    .dataframe tbody tr th:only-of-type {\n",
              "        vertical-align: middle;\n",
              "    }\n",
              "\n",
              "    .dataframe tbody tr th {\n",
              "        vertical-align: top;\n",
              "    }\n",
              "\n",
              "    .dataframe thead th {\n",
              "        text-align: right;\n",
              "    }\n",
              "</style>\n",
              "<table border=\"1\" class=\"dataframe\">\n",
              "  <thead>\n",
              "    <tr style=\"text-align: right;\">\n",
              "      <th></th>\n",
              "      <th>ID</th>\n",
              "      <th>label</th>\n",
              "    </tr>\n",
              "  </thead>\n",
              "  <tbody>\n",
              "    <tr>\n",
              "      <th>1</th>\n",
              "      <td>1</td>\n",
              "      <td>Positive</td>\n",
              "    </tr>\n",
              "    <tr>\n",
              "      <th>2</th>\n",
              "      <td>2</td>\n",
              "      <td>Negative</td>\n",
              "    </tr>\n",
              "    <tr>\n",
              "      <th>3</th>\n",
              "      <td>3</td>\n",
              "      <td>Negative</td>\n",
              "    </tr>\n",
              "  </tbody>\n",
              "</table>\n",
              "</div>"
            ],
            "text/plain": [
              "  ID     label\n",
              "1  1  Positive\n",
              "2  2  Negative\n",
              "3  3  Negative"
            ]
          },
          "metadata": {
            "tags": []
          },
          "execution_count": 27
        }
      ]
    },
    {
      "cell_type": "markdown",
      "metadata": {
        "id": "1WEYOH5x-TrF",
        "colab_type": "text"
      },
      "source": [
        "### 5. Train model and predict\n",
        "\n",
        "*Using train, validation and test set* <br>\n",
        "\n",
        "Training for 6 epochs with Adam optimizer, with a learning rate of 0.0005 and decay rate of 0.8. The validation predictions are \\[exponentially weighted\\] averaged over all 6 epochs (same goes for the test set submission later). `fit_and_predict` returns validation and test predictions for all epochs.\n"
      ]
    },
    {
      "cell_type": "code",
      "metadata": {
        "id": "zQpkQBx8-TrG",
        "colab_type": "code",
        "outputId": "309f4c87-bce1-49e6-8e5f-95900a9e0819",
        "colab": {
          "base_uri": "https://localhost:8080/",
          "height": 1000
        }
      },
      "source": [
        "# train set (80%) and validation set (20%)\n",
        "ss = ShuffleSplit(n_splits=10, test_size=0.1, random_state=42).split(df.index)\n",
        "\n",
        "# lets go for the first fold only\n",
        "train_idx, valid_idx = next(ss)\n",
        "\n",
        "# obtain model\n",
        "model = MyDeepModel(engine=ResNet50, input_dims=(224,224, 3),\n",
        "                    batch_size=3, learning_rate=5e-5, n_classes=4,\n",
        "                    num_epochs=6, decay_rate=0.8, decay_steps=1,\n",
        "                    weights='imagenet', verbose=2)\n",
        "\n",
        "# obtain test + validation predictions (history.test_predictions, history.valid_predictions)\n",
        "history = model.fit_and_predict(df.iloc[train_idx], df.iloc[valid_idx], test_df)\n"
      ],
      "execution_count": 33,
      "outputs": [
        {
          "output_type": "stream",
          "text": [
            "Epoch 1/6\n",
            "Epoch 1/6\n",
            "Self image size (224, 224, 3)\n",
            "Self image size (224, 224, 3)\n",
            "Self image size (224, 224, 3)\n",
            "drive/My Drive/data/LFA_Iamges/Images/0020.jpg\n",
            "Self image size (224, 224, 3)\n",
            "drive/My Drive/data/LFA_Iamges/Images/0012.jpg\n",
            "drive/My Drive/data/LFA_Iamges/Images/0010.jpg\n",
            "Self image size (224, 224, 3)\n",
            "Self image size (224, 224, 3)\n",
            "drive/My Drive/data/LFA_Iamges/Images/0030.jpg\n",
            "drive/My Drive/data/LFA_Iamges/Images/0006.jpg\n",
            "drive/My Drive/data/LFA_Iamges/Images/0025.jpg\n",
            "Self image size (224, 224, 3)\n",
            "Self image size (224, 224, 3)\n",
            "drive/My Drive/data/LFA_Iamges/Images/0016.jpg\n",
            "Self image size (224, 224, 3)\n",
            "drive/My Drive/data/LFA_Iamges/Images/0007.jpg\n",
            "drive/My Drive/data/LFA_Iamges/Images/0026.jpg\n",
            "Self image size (224, 224, 3)\n",
            "drive/My Drive/data/LFA_Iamges/Images/0011.jpg\n",
            "Self image size (224, 224, 3)\n",
            "drive/My Drive/data/LFA_Iamges/Images/0024.jpg\n"
          ],
          "name": "stdout"
        },
        {
          "output_type": "error",
          "ename": "AttributeError",
          "evalue": "ignored",
          "traceback": [
            "\u001b[0;31m---------------------------------------------------------------------------\u001b[0m",
            "\u001b[0;31mRemoteTraceback\u001b[0m                           Traceback (most recent call last)",
            "\u001b[0;31mRemoteTraceback\u001b[0m: \n\"\"\"\nTraceback (most recent call last):\n  File \"/usr/lib/python3.6/multiprocessing/pool.py\", line 119, in worker\n    result = (True, func(*args, **kwds))\n  File \"/usr/local/lib/python3.6/dist-packages/keras/utils/data_utils.py\", line 406, in get_index\n    return _SHARED_SEQUENCES[uid][i]\n  File \"<ipython-input-21-00068f9e3f7f>\", line 28, in __getitem__\n    X, Y = self.__data_generation(list_IDs_temp)\n  File \"<ipython-input-21-00068f9e3f7f>\", line 49, in __data_generation\n    self.img_size,  augment_data= self.n_augment, plot=False)\n  File \"<ipython-input-18-b633edc1cc8e>\", line 20, in _read\n    rows, cols,_ = img.shape\nAttributeError: 'NoneType' object has no attribute 'shape'\n\"\"\"",
            "\nThe above exception was the direct cause of the following exception:\n",
            "\u001b[0;31mAttributeError\u001b[0m                            Traceback (most recent call last)",
            "\u001b[0;32m<ipython-input-33-360fc508a41c>\u001b[0m in \u001b[0;36m<module>\u001b[0;34m()\u001b[0m\n\u001b[1;32m     12\u001b[0m \u001b[0;34m\u001b[0m\u001b[0m\n\u001b[1;32m     13\u001b[0m \u001b[0;31m# obtain test + validation predictions (history.test_predictions, history.valid_predictions)\u001b[0m\u001b[0;34m\u001b[0m\u001b[0;34m\u001b[0m\u001b[0;34m\u001b[0m\u001b[0m\n\u001b[0;32m---> 14\u001b[0;31m \u001b[0mhistory\u001b[0m \u001b[0;34m=\u001b[0m \u001b[0mmodel\u001b[0m\u001b[0;34m.\u001b[0m\u001b[0mfit_and_predict\u001b[0m\u001b[0;34m(\u001b[0m\u001b[0mdf\u001b[0m\u001b[0;34m.\u001b[0m\u001b[0miloc\u001b[0m\u001b[0;34m[\u001b[0m\u001b[0mtrain_idx\u001b[0m\u001b[0;34m]\u001b[0m\u001b[0;34m,\u001b[0m \u001b[0mdf\u001b[0m\u001b[0;34m.\u001b[0m\u001b[0miloc\u001b[0m\u001b[0;34m[\u001b[0m\u001b[0mvalid_idx\u001b[0m\u001b[0;34m]\u001b[0m\u001b[0;34m,\u001b[0m \u001b[0mtest_df\u001b[0m\u001b[0;34m)\u001b[0m\u001b[0;34m\u001b[0m\u001b[0;34m\u001b[0m\u001b[0m\n\u001b[0m",
            "\u001b[0;32m<ipython-input-23-a037f0041792>\u001b[0m in \u001b[0;36mfit_and_predict\u001b[0;34m(self, train_df, valid_df, test_df)\u001b[0m\n\u001b[1;32m    116\u001b[0m             \u001b[0mverbose\u001b[0m\u001b[0;34m=\u001b[0m\u001b[0mself\u001b[0m\u001b[0;34m.\u001b[0m\u001b[0mverbose\u001b[0m\u001b[0;34m,\u001b[0m\u001b[0;34m\u001b[0m\u001b[0;34m\u001b[0m\u001b[0m\n\u001b[1;32m    117\u001b[0m             \u001b[0muse_multiprocessing\u001b[0m\u001b[0;34m=\u001b[0m\u001b[0;32mTrue\u001b[0m\u001b[0;34m,\u001b[0m\u001b[0;34m\u001b[0m\u001b[0;34m\u001b[0m\u001b[0m\n\u001b[0;32m--> 118\u001b[0;31m             \u001b[0mworkers\u001b[0m\u001b[0;34m=\u001b[0m\u001b[0;36m4\u001b[0m\u001b[0;31m#,\u001b[0m\u001b[0;34m\u001b[0m\u001b[0;34m\u001b[0m\u001b[0m\n\u001b[0m\u001b[1;32m    119\u001b[0m             \u001b[0;31m#callbacks=[history]\u001b[0m\u001b[0;34m\u001b[0m\u001b[0;34m\u001b[0m\u001b[0;34m\u001b[0m\u001b[0m\n\u001b[1;32m    120\u001b[0m             \u001b[0;31m#callbacks=[tensorboard_callback]\u001b[0m\u001b[0;34m\u001b[0m\u001b[0;34m\u001b[0m\u001b[0;34m\u001b[0m\u001b[0m\n",
            "\u001b[0;32m/usr/local/lib/python3.6/dist-packages/keras/legacy/interfaces.py\u001b[0m in \u001b[0;36mwrapper\u001b[0;34m(*args, **kwargs)\u001b[0m\n\u001b[1;32m     89\u001b[0m                 warnings.warn('Update your `' + object_name + '` call to the ' +\n\u001b[1;32m     90\u001b[0m                               'Keras 2 API: ' + signature, stacklevel=2)\n\u001b[0;32m---> 91\u001b[0;31m             \u001b[0;32mreturn\u001b[0m \u001b[0mfunc\u001b[0m\u001b[0;34m(\u001b[0m\u001b[0;34m*\u001b[0m\u001b[0margs\u001b[0m\u001b[0;34m,\u001b[0m \u001b[0;34m**\u001b[0m\u001b[0mkwargs\u001b[0m\u001b[0;34m)\u001b[0m\u001b[0;34m\u001b[0m\u001b[0;34m\u001b[0m\u001b[0m\n\u001b[0m\u001b[1;32m     92\u001b[0m         \u001b[0mwrapper\u001b[0m\u001b[0;34m.\u001b[0m\u001b[0m_original_function\u001b[0m \u001b[0;34m=\u001b[0m \u001b[0mfunc\u001b[0m\u001b[0;34m\u001b[0m\u001b[0;34m\u001b[0m\u001b[0m\n\u001b[1;32m     93\u001b[0m         \u001b[0;32mreturn\u001b[0m \u001b[0mwrapper\u001b[0m\u001b[0;34m\u001b[0m\u001b[0;34m\u001b[0m\u001b[0m\n",
            "\u001b[0;32m/usr/local/lib/python3.6/dist-packages/keras/engine/training.py\u001b[0m in \u001b[0;36mfit_generator\u001b[0;34m(self, generator, steps_per_epoch, epochs, verbose, callbacks, validation_data, validation_steps, validation_freq, class_weight, max_queue_size, workers, use_multiprocessing, shuffle, initial_epoch)\u001b[0m\n\u001b[1;32m   1730\u001b[0m             \u001b[0muse_multiprocessing\u001b[0m\u001b[0;34m=\u001b[0m\u001b[0muse_multiprocessing\u001b[0m\u001b[0;34m,\u001b[0m\u001b[0;34m\u001b[0m\u001b[0;34m\u001b[0m\u001b[0m\n\u001b[1;32m   1731\u001b[0m             \u001b[0mshuffle\u001b[0m\u001b[0;34m=\u001b[0m\u001b[0mshuffle\u001b[0m\u001b[0;34m,\u001b[0m\u001b[0;34m\u001b[0m\u001b[0;34m\u001b[0m\u001b[0m\n\u001b[0;32m-> 1732\u001b[0;31m             initial_epoch=initial_epoch)\n\u001b[0m\u001b[1;32m   1733\u001b[0m \u001b[0;34m\u001b[0m\u001b[0m\n\u001b[1;32m   1734\u001b[0m     \u001b[0;34m@\u001b[0m\u001b[0minterfaces\u001b[0m\u001b[0;34m.\u001b[0m\u001b[0mlegacy_generator_methods_support\u001b[0m\u001b[0;34m\u001b[0m\u001b[0;34m\u001b[0m\u001b[0m\n",
            "\u001b[0;32m/usr/local/lib/python3.6/dist-packages/keras/engine/training_generator.py\u001b[0m in \u001b[0;36mfit_generator\u001b[0;34m(model, generator, steps_per_epoch, epochs, verbose, callbacks, validation_data, validation_steps, validation_freq, class_weight, max_queue_size, workers, use_multiprocessing, shuffle, initial_epoch)\u001b[0m\n\u001b[1;32m    183\u001b[0m             \u001b[0mbatch_index\u001b[0m \u001b[0;34m=\u001b[0m \u001b[0;36m0\u001b[0m\u001b[0;34m\u001b[0m\u001b[0;34m\u001b[0m\u001b[0m\n\u001b[1;32m    184\u001b[0m             \u001b[0;32mwhile\u001b[0m \u001b[0msteps_done\u001b[0m \u001b[0;34m<\u001b[0m \u001b[0msteps_per_epoch\u001b[0m\u001b[0;34m:\u001b[0m\u001b[0;34m\u001b[0m\u001b[0;34m\u001b[0m\u001b[0m\n\u001b[0;32m--> 185\u001b[0;31m                 \u001b[0mgenerator_output\u001b[0m \u001b[0;34m=\u001b[0m \u001b[0mnext\u001b[0m\u001b[0;34m(\u001b[0m\u001b[0moutput_generator\u001b[0m\u001b[0;34m)\u001b[0m\u001b[0;34m\u001b[0m\u001b[0;34m\u001b[0m\u001b[0m\n\u001b[0m\u001b[1;32m    186\u001b[0m \u001b[0;34m\u001b[0m\u001b[0m\n\u001b[1;32m    187\u001b[0m                 \u001b[0;32mif\u001b[0m \u001b[0;32mnot\u001b[0m \u001b[0mhasattr\u001b[0m\u001b[0;34m(\u001b[0m\u001b[0mgenerator_output\u001b[0m\u001b[0;34m,\u001b[0m \u001b[0;34m'__len__'\u001b[0m\u001b[0;34m)\u001b[0m\u001b[0;34m:\u001b[0m\u001b[0;34m\u001b[0m\u001b[0;34m\u001b[0m\u001b[0m\n",
            "\u001b[0;32m/usr/local/lib/python3.6/dist-packages/keras/utils/data_utils.py\u001b[0m in \u001b[0;36mget\u001b[0;34m(self)\u001b[0m\n\u001b[1;32m    623\u001b[0m         \u001b[0;32mexcept\u001b[0m \u001b[0mException\u001b[0m\u001b[0;34m:\u001b[0m\u001b[0;34m\u001b[0m\u001b[0;34m\u001b[0m\u001b[0m\n\u001b[1;32m    624\u001b[0m             \u001b[0mself\u001b[0m\u001b[0;34m.\u001b[0m\u001b[0mstop\u001b[0m\u001b[0;34m(\u001b[0m\u001b[0;34m)\u001b[0m\u001b[0;34m\u001b[0m\u001b[0;34m\u001b[0m\u001b[0m\n\u001b[0;32m--> 625\u001b[0;31m             \u001b[0msix\u001b[0m\u001b[0;34m.\u001b[0m\u001b[0mreraise\u001b[0m\u001b[0;34m(\u001b[0m\u001b[0;34m*\u001b[0m\u001b[0msys\u001b[0m\u001b[0;34m.\u001b[0m\u001b[0mexc_info\u001b[0m\u001b[0;34m(\u001b[0m\u001b[0;34m)\u001b[0m\u001b[0;34m)\u001b[0m\u001b[0;34m\u001b[0m\u001b[0;34m\u001b[0m\u001b[0m\n\u001b[0m\u001b[1;32m    626\u001b[0m \u001b[0;34m\u001b[0m\u001b[0m\n\u001b[1;32m    627\u001b[0m \u001b[0;34m\u001b[0m\u001b[0m\n",
            "\u001b[0;32m/usr/local/lib/python3.6/dist-packages/six.py\u001b[0m in \u001b[0;36mreraise\u001b[0;34m(tp, value, tb)\u001b[0m\n\u001b[1;32m    691\u001b[0m             \u001b[0;32mif\u001b[0m \u001b[0mvalue\u001b[0m\u001b[0;34m.\u001b[0m\u001b[0m__traceback__\u001b[0m \u001b[0;32mis\u001b[0m \u001b[0;32mnot\u001b[0m \u001b[0mtb\u001b[0m\u001b[0;34m:\u001b[0m\u001b[0;34m\u001b[0m\u001b[0;34m\u001b[0m\u001b[0m\n\u001b[1;32m    692\u001b[0m                 \u001b[0;32mraise\u001b[0m \u001b[0mvalue\u001b[0m\u001b[0;34m.\u001b[0m\u001b[0mwith_traceback\u001b[0m\u001b[0;34m(\u001b[0m\u001b[0mtb\u001b[0m\u001b[0;34m)\u001b[0m\u001b[0;34m\u001b[0m\u001b[0;34m\u001b[0m\u001b[0m\n\u001b[0;32m--> 693\u001b[0;31m             \u001b[0;32mraise\u001b[0m \u001b[0mvalue\u001b[0m\u001b[0;34m\u001b[0m\u001b[0;34m\u001b[0m\u001b[0m\n\u001b[0m\u001b[1;32m    694\u001b[0m         \u001b[0;32mfinally\u001b[0m\u001b[0;34m:\u001b[0m\u001b[0;34m\u001b[0m\u001b[0;34m\u001b[0m\u001b[0m\n\u001b[1;32m    695\u001b[0m             \u001b[0mvalue\u001b[0m \u001b[0;34m=\u001b[0m \u001b[0;32mNone\u001b[0m\u001b[0;34m\u001b[0m\u001b[0;34m\u001b[0m\u001b[0m\n",
            "\u001b[0;32m/usr/local/lib/python3.6/dist-packages/keras/utils/data_utils.py\u001b[0m in \u001b[0;36mget\u001b[0;34m(self)\u001b[0m\n\u001b[1;32m    608\u001b[0m                 \u001b[0;32mtry\u001b[0m\u001b[0;34m:\u001b[0m\u001b[0;34m\u001b[0m\u001b[0;34m\u001b[0m\u001b[0m\n\u001b[1;32m    609\u001b[0m                     \u001b[0mfuture\u001b[0m \u001b[0;34m=\u001b[0m \u001b[0mself\u001b[0m\u001b[0;34m.\u001b[0m\u001b[0mqueue\u001b[0m\u001b[0;34m.\u001b[0m\u001b[0mget\u001b[0m\u001b[0;34m(\u001b[0m\u001b[0mblock\u001b[0m\u001b[0;34m=\u001b[0m\u001b[0;32mTrue\u001b[0m\u001b[0;34m)\u001b[0m\u001b[0;34m\u001b[0m\u001b[0;34m\u001b[0m\u001b[0m\n\u001b[0;32m--> 610\u001b[0;31m                     \u001b[0minputs\u001b[0m \u001b[0;34m=\u001b[0m \u001b[0mfuture\u001b[0m\u001b[0;34m.\u001b[0m\u001b[0mget\u001b[0m\u001b[0;34m(\u001b[0m\u001b[0mtimeout\u001b[0m\u001b[0;34m=\u001b[0m\u001b[0;36m30\u001b[0m\u001b[0;34m)\u001b[0m\u001b[0;34m\u001b[0m\u001b[0;34m\u001b[0m\u001b[0m\n\u001b[0m\u001b[1;32m    611\u001b[0m                 \u001b[0;32mexcept\u001b[0m \u001b[0mmp\u001b[0m\u001b[0;34m.\u001b[0m\u001b[0mTimeoutError\u001b[0m\u001b[0;34m:\u001b[0m\u001b[0;34m\u001b[0m\u001b[0;34m\u001b[0m\u001b[0m\n\u001b[1;32m    612\u001b[0m                     \u001b[0midx\u001b[0m \u001b[0;34m=\u001b[0m \u001b[0mfuture\u001b[0m\u001b[0;34m.\u001b[0m\u001b[0midx\u001b[0m\u001b[0;34m\u001b[0m\u001b[0;34m\u001b[0m\u001b[0m\n",
            "\u001b[0;32m/usr/lib/python3.6/multiprocessing/pool.py\u001b[0m in \u001b[0;36mget\u001b[0;34m(self, timeout)\u001b[0m\n\u001b[1;32m    642\u001b[0m             \u001b[0;32mreturn\u001b[0m \u001b[0mself\u001b[0m\u001b[0;34m.\u001b[0m\u001b[0m_value\u001b[0m\u001b[0;34m\u001b[0m\u001b[0;34m\u001b[0m\u001b[0m\n\u001b[1;32m    643\u001b[0m         \u001b[0;32melse\u001b[0m\u001b[0;34m:\u001b[0m\u001b[0;34m\u001b[0m\u001b[0;34m\u001b[0m\u001b[0m\n\u001b[0;32m--> 644\u001b[0;31m             \u001b[0;32mraise\u001b[0m \u001b[0mself\u001b[0m\u001b[0;34m.\u001b[0m\u001b[0m_value\u001b[0m\u001b[0;34m\u001b[0m\u001b[0;34m\u001b[0m\u001b[0m\n\u001b[0m\u001b[1;32m    645\u001b[0m \u001b[0;34m\u001b[0m\u001b[0m\n\u001b[1;32m    646\u001b[0m     \u001b[0;32mdef\u001b[0m \u001b[0m_set\u001b[0m\u001b[0;34m(\u001b[0m\u001b[0mself\u001b[0m\u001b[0;34m,\u001b[0m \u001b[0mi\u001b[0m\u001b[0;34m,\u001b[0m \u001b[0mobj\u001b[0m\u001b[0;34m)\u001b[0m\u001b[0;34m:\u001b[0m\u001b[0;34m\u001b[0m\u001b[0;34m\u001b[0m\u001b[0m\n",
            "\u001b[0;31mAttributeError\u001b[0m: 'NoneType' object has no attribute 'shape'"
          ]
        },
        {
          "output_type": "stream",
          "text": [
            "samples size in read: (10, 224, 224, 3)\n",
            "Dim data gen (10, 224, 224, 3)\n",
            "samples size in read: (10, 224, 224, 3)\n",
            "Dim data gen (10, 224, 224, 3)\n"
          ],
          "name": "stdout"
        }
      ]
    },
    {
      "cell_type": "code",
      "metadata": {
        "id": "4YfFbPCQWwZP",
        "colab_type": "code",
        "outputId": "e2bd010f-21d0-4a38-d7b3-d39cb03c8357",
        "colab": {
          "base_uri": "https://localhost:8080/",
          "height": 85
        }
      },
      "source": [
        "!pip install pyyaml h5py "
      ],
      "execution_count": 0,
      "outputs": [
        {
          "output_type": "stream",
          "text": [
            "Requirement already satisfied: pyyaml in /usr/local/lib/python3.6/dist-packages (3.13)\n",
            "Requirement already satisfied: h5py in /usr/local/lib/python3.6/dist-packages (2.10.0)\n",
            "Requirement already satisfied: six in /usr/local/lib/python3.6/dist-packages (from h5py) (1.12.0)\n",
            "Requirement already satisfied: numpy>=1.7 in /usr/local/lib/python3.6/dist-packages (from h5py) (1.18.3)\n"
          ],
          "name": "stdout"
        }
      ]
    },
    {
      "cell_type": "code",
      "metadata": {
        "id": "TN62nd8AWY9X",
        "colab_type": "code",
        "colab": {}
      },
      "source": [
        "model.save('data\\final_weight.h5')\n"
      ],
      "execution_count": 0,
      "outputs": []
    },
    {
      "cell_type": "markdown",
      "metadata": {
        "id": "uCRk9n8S0E7V",
        "colab_type": "text"
      },
      "source": [
        "Using the Tensor graph analysis"
      ]
    },
    {
      "cell_type": "markdown",
      "metadata": {
        "id": "XUscXfsW-TrO",
        "colab_type": "text"
      },
      "source": [
        "### 6. Submit test predictions"
      ]
    },
    {
      "cell_type": "code",
      "metadata": {
        "id": "ghTcolzR-TrQ",
        "colab_type": "code",
        "colab": {}
      },
      "source": [
        "test_df.iloc[:, :] = np.average(history.test_predictions, axis=0, weights=[2**i for i in range(len(history.test_predictions))])\n",
        "test_df = test_df.stack().reset_index()\n",
        "\n",
        "test_df.insert(loc=0, column='ID', value=test_df['Image'].astype(str) + \"_\" + test_df['Diagnosis'])\n",
        "\n",
        "test_df = test_df.drop([\"Image\", \"Diagnosis\"], axis=1)\n",
        "\n",
        "test_df.to_csv('submission.csv', index=False)"
      ],
      "execution_count": 0,
      "outputs": []
    }
  ]
}